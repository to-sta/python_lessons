{
 "cells": [
  {
   "cell_type": "markdown",
   "metadata": {},
   "source": [
    "# 1. Introduction to Python"
   ]
  },
  {
   "cell_type": "markdown",
   "metadata": {},
   "source": [
    "## 1.1 Python\n",
    "**Python** is a popular high-level programming language and the preferred choice for many to start learning about programming. Before we can start using Python, we have to install it. Download the latest version of Python [here](https://www.python.org/downloads/)."
   ]
  },
  {
   "cell_type": "markdown",
   "metadata": {},
   "source": [
    "## 1.2 Variables\n",
    "Python **variables** are simply containers for storing data values.  To create a **variable**, you just assign it a value and then start using it. Assignment is done with a single equals sign **(=)**.\n",
    "\n",
    "The part to the left of the assignment operator is the variable name, and the right side is its value.\n",
    "\n",
    "```python\n",
    "variable_name =  4\n",
    "```\n",
    "\n",
    "It is also possible to assign multiple variables in one line:\n",
    "\n",
    "```python\n",
    "name, age = \"Max\", 18\n",
    "```\n"
   ]
  },
  {
   "cell_type": "code",
   "execution_count": 7,
   "metadata": {},
   "outputs": [
    {
     "name": "stdout",
     "output_type": "stream",
     "text": [
      "4\n"
     ]
    }
   ],
   "source": [
    "variable_name = 4\n",
    "print(variable_name)"
   ]
  },
  {
   "cell_type": "markdown",
   "metadata": {},
   "source": [
    "> [!INFO]\n",
    "> Variable names should be lowercase, with words separated by underscores as necessary to improve readability. \n",
    "> by [pep8 styleguide](https://peps.python.org/pep-0008/#function-and-variable-names)"
   ]
  },
  {
   "cell_type": "markdown",
   "metadata": {},
   "source": [
    "## 1.3 Data Types\n",
    "\n",
    "**Python** comes with a number of built-in data types. Let's start with the fundmentals, they can be grouped into categories:\n",
    "\n",
    "* Numeric data types\n",
    "* String data types\n",
    "* Boolean data types\n",
    "\n",
    "<ins>Numeric data types:</ins>\n",
    "There are two fundamental numeric data types, the `int` data type to represent integer numbers and the `float` data type to represent floating-point numbers.\n",
    "\n",
    "<ins>String data type:</ins>\n",
    "\n",
    "\n",
    "<ins>Boolean data type:</ins>\n",
    "\n",
    "\n",
    "\n",
    "We can use the built-in function `type()` to determine the data type of a variable or value. For example, calling `type(5)` would return `<class 'int'>`.\n",
    "\n",
    "> [!INFO]\n",
    "> There are more built-in data types than the once mentioned above (e.g complex numbers have a numeric data type `complex`). Also datastructures are considered data types, but we will address them later on."
   ]
  },
  {
   "cell_type": "code",
   "execution_count": 3,
   "metadata": {},
   "outputs": [
    {
     "name": "stdout",
     "output_type": "stream",
     "text": [
      "<class 'int'>\n",
      "<class 'float'>\n",
      "<class 'str'>\n",
      "<class 'bool'>\n"
     ]
    }
   ],
   "source": [
    "print(type(10))                  # Int\n",
    "print(type(3.14))                # Float\n",
    "print(type(\"Hello World\"))       # String\n",
    "print(type(True))                # Boolean"
   ]
  },
  {
   "cell_type": "code",
   "execution_count": null,
   "metadata": {},
   "outputs": [],
   "source": []
  }
 ],
 "metadata": {
  "kernelspec": {
   "display_name": "Python 3",
   "language": "python",
   "name": "python3"
  },
  "language_info": {
   "codemirror_mode": {
    "name": "ipython",
    "version": 3
   },
   "file_extension": ".py",
   "mimetype": "text/x-python",
   "name": "python",
   "nbconvert_exporter": "python",
   "pygments_lexer": "ipython3",
   "version": "3.11.5"
  }
 },
 "nbformat": 4,
 "nbformat_minor": 2
}
